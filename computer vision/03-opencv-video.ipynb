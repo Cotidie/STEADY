{
 "cells": [
  {
   "cell_type": "markdown",
   "id": "7c197374",
   "metadata": {},
   "source": [
    "# OpenCV Video\n",
    "Playing with video is a crucial part for object detection and tracking. \n",
    "\n",
    "- Connect OpenCV to a WebCam\n",
    "- Use OpenCV to open a video file\n",
    "- Draw shapes on video\n",
    "- Interact with video\n",
    "\n",
    "⚠️ DO NOT open multiple kernels on webcam connection due to USB conflicting\n"
   ]
  },
  {
   "cell_type": "markdown",
   "id": "c14935b2",
   "metadata": {},
   "source": [
    "## Opening a video\n",
    "To open a video, 1) initialize `VideoCapture(<index>)`, 2) read a frame and 3) release the cam device. "
   ]
  },
  {
   "cell_type": "code",
   "execution_count": 22,
   "id": "36148a16",
   "metadata": {},
   "outputs": [],
   "source": [
    "import cv2\n",
    "import time"
   ]
  },
  {
   "cell_type": "code",
   "execution_count": null,
   "id": "f44cad84",
   "metadata": {},
   "outputs": [],
   "source": [
    "# Webcam connection\n",
    "# 0 is the default webcam, 1 for external camera\n",
    "# Webcam hardware is now locked by OpenCV\n",
    "webcam = cv2.VideoCapture(0) \n",
    "\n",
    "# get(<<CAP_PROP>>) for camera properties\n",
    "width = int(webcam.get(cv2.CAP_PROP_FRAME_WIDTH))\n",
    "height = int(webcam.get(cv2.CAP_PROP_FRAME_HEIGHT))\n",
    "\n",
    "while True:\n",
    "    # read() -> [bool, np.ndarray]\n",
    "    ret, frame = webcam.read()\n",
    "    if not ret:\n",
    "        print(\"Error: failed to capture image\")\n",
    "        break\n",
    "\n",
    "    cv2.imshow(\"Webcam\", frame)\n",
    "    \n",
    "    if cv2.waitKey(1) & 0xFF == ord('q'):\n",
    "        break\n",
    "\n",
    "webcam.release()\n",
    "cv2.destroyAllWindows()"
   ]
  },
  {
   "cell_type": "code",
   "execution_count": 25,
   "id": "d97e78ec",
   "metadata": {},
   "outputs": [],
   "source": [
    "# How to open a video file\n",
    "capture = cv2.VideoCapture(\"./videos/hand_move.mp4\")\n",
    "\n",
    "if not capture.isOpened():\n",
    "    print(\"FILE NOT FOUND OR WRONG CODEC USED!\")\n",
    "\n",
    "while capture.isOpened():\n",
    "    ret, frame = capture.read()\n",
    "    if not ret:\n",
    "        break\n",
    "\n",
    "    cv2.imshow(\"Video\", frame)\n",
    "    \n",
    "    if cv2.waitKey(25) & 0xFF == ord('q'):\n",
    "        break\n",
    "\n",
    "capture.release()\n",
    "cv2.destroyAllWindows()"
   ]
  },
  {
   "cell_type": "markdown",
   "id": "aac7d040",
   "metadata": {},
   "source": [
    "## Draw on a video\n",
    "1. Read a frame from a video\n",
    "2. Use drawing functions on the frame"
   ]
  },
  {
   "cell_type": "code",
   "execution_count": 26,
   "id": "70b8062a",
   "metadata": {},
   "outputs": [],
   "source": [
    "def exit_video(key: chr):\n",
    "    if cv2.waitKey(1) & 0xFF == ord(key):\n",
    "        return True\n",
    "    return False"
   ]
  },
  {
   "cell_type": "code",
   "execution_count": null,
   "id": "63d82574",
   "metadata": {},
   "outputs": [],
   "source": [
    "# Basic drawing on a video\n",
    "capture = cv2.VideoCapture(0)\n",
    "\n",
    "width = int(capture.get(cv2.CAP_PROP_FRAME_WIDTH))\n",
    "height = int(capture.get(cv2.CAP_PROP_FRAME_HEIGHT))\n",
    "\n",
    "while True:\n",
    "    ret, frame = capture.read()\n",
    "    if not ret:\n",
    "        print(\"Error: failed to capture image\")\n",
    "        break\n",
    "\n",
    "    cv2.rectangle(frame, (50, 50), (200, 200), (0, 255, 0), 2)\n",
    "    cv2.imshow(\"Webcam with rectangle\", frame)\n",
    "\n",
    "    if exit_video('q'):\n",
    "        break\n",
    "\n",
    "capture.release()\n",
    "cv2.destroyAllWindows()"
   ]
  },
  {
   "cell_type": "code",
   "execution_count": 28,
   "id": "4c2eee83",
   "metadata": {},
   "outputs": [],
   "source": [
    "###########################\n",
    "# Interactive drawing\n",
    "###########################\n",
    "\n",
    "left_button_down = False\n",
    "right_button_down = False\n",
    "\n",
    "x_start, y_start = -1, -1\n",
    "x_end, y_end = -1, -1\n",
    "\n",
    "def mouse_callback(event, x, y, flags, params):\n",
    "    global left_button_down, right_button_down\n",
    "    global x_start, y_start, x_end, y_end\n",
    "\n",
    "\n",
    "    if event == cv2.EVENT_LBUTTONDOWN:\n",
    "        left_button_down = True\n",
    "        x_start, y_start = x, y\n",
    "        \n",
    "    if event == cv2.EVENT_RBUTTONDOWN:\n",
    "        if left_button_down:\n",
    "            right_button_down = True\n",
    "            x_end, y_end = x, y\n",
    "\n",
    "capture = cv2.VideoCapture(0)\n",
    "cv2.namedWindow(\"Interactive Drawing\")\n",
    "cv2.setMouseCallback(\"Interactive Drawing\", mouse_callback)\n",
    "\n",
    "while True:\n",
    "    ret, frame = capture.read()\n",
    "    if not ret:\n",
    "        break\n",
    "\n",
    "    if left_button_down and not right_button_down:\n",
    "        cv2.circle(frame, (x_start, y_start), 5, (255, 0, 0), -1)\n",
    "\n",
    "    if left_button_down and right_button_down:\n",
    "        cv2.rectangle(frame, (x_start, y_start), (x_end, y_end), (0, 255, 0), 2)\n",
    "\n",
    "    cv2.imshow(\"Interactive Drawing\", frame)\n",
    "\n",
    "    if cv2.waitKey(1) == 27:  # ESC key\n",
    "        break\n",
    "\n",
    "capture.release()\n",
    "cv2.destroyAllWindows() "
   ]
  }
 ],
 "metadata": {
  "kernelspec": {
   "display_name": "base",
   "language": "python",
   "name": "python3"
  },
  "language_info": {
   "codemirror_mode": {
    "name": "ipython",
    "version": 3
   },
   "file_extension": ".py",
   "mimetype": "text/x-python",
   "name": "python",
   "nbconvert_exporter": "python",
   "pygments_lexer": "ipython3",
   "version": "3.13.5"
  }
 },
 "nbformat": 4,
 "nbformat_minor": 5
}
